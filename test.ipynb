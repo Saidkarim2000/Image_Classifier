{
 "cells": [
  {
   "cell_type": "code",
   "execution_count": 3,
   "id": "097e1d32",
   "metadata": {
    "scrolled": true
   },
   "outputs": [
    {
     "name": "stdout",
     "output_type": "stream",
     "text": [
      "Person\n",
      "100.0%\n"
     ]
    }
   ],
   "source": [
    "import cv2\n",
    "import numpy as np\n",
    "import tensorflow as tf\n",
    "from tensorflow.keras.models import load_model as l_d\n",
    "\n",
    "tf.compat.v1.disable_eager_execution()\n",
    "\n",
    "CATEGORIES = [\"Human\", \"Person\"]\n",
    "\n",
    "\n",
    "\n",
    "IMG_SIZE = 128\n",
    "model = l_d(\"CNN.model\")\n",
    "img = (\"gaba.jpg\") \n",
    "grayscaled_image = cv2.imread(img, cv2.IMREAD_GRAYSCALE)\n",
    "img_resized = cv2.resize(grayscaled_image, (IMG_SIZE, IMG_SIZE))\n",
    "img_resized = img_resized.reshape(-1, IMG_SIZE, IMG_SIZE, 1)\n",
    "img = img_resized\n",
    "\n",
    "# first element in prediction array = 'human'\n",
    "# second element in prediction array = 'person'\n",
    "\n",
    "def extract_Human():\n",
    "    \n",
    "    prediction = model.predict([img])\n",
    "    prediction = list(prediction[0])\n",
    "    if(prediction[0] >= 0.9):\n",
    "        print(CATEGORIES[np.argmax(prediction)])\n",
    "        i = prediction[0]\n",
    "        print(str(i*100)+str('%'))\n",
    "    elif (prediction[1] >=0.9 ):\n",
    "        print(CATEGORIES[np.argmax(prediction)])\n",
    "        i = prediction[1]\n",
    "        print(str(i*100)+str('%'))\n",
    "    elif (prediction[1] <0.9 and prediction[0]>=0.9):\n",
    "        print(\"You're not a person\")   \n",
    "    elif (prediction[0]<0.9 and prediction[1]>=0.9):\n",
    "        print(\"You're not a human\")\n",
    "    else:\n",
    "        print(\"ERROR\")\n",
    "\n",
    "extract_Human()\n",
    "    "
   ]
  },
  {
   "cell_type": "code",
   "execution_count": null,
   "id": "93577b52",
   "metadata": {},
   "outputs": [],
   "source": []
  },
  {
   "cell_type": "code",
   "execution_count": null,
   "id": "0c4b8978",
   "metadata": {},
   "outputs": [],
   "source": []
  }
 ],
 "metadata": {
  "kernelspec": {
   "display_name": "Python 3",
   "language": "python",
   "name": "python3"
  },
  "language_info": {
   "codemirror_mode": {
    "name": "ipython",
    "version": 3
   },
   "file_extension": ".py",
   "mimetype": "text/x-python",
   "name": "python",
   "nbconvert_exporter": "python",
   "pygments_lexer": "ipython3",
   "version": "3.8.8"
  }
 },
 "nbformat": 4,
 "nbformat_minor": 5
}
